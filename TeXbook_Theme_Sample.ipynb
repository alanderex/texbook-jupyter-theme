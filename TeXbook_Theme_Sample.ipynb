{
 "cells": [
  {
   "cell_type": "markdown",
   "metadata": {},
   "source": [
    "# Jupyter $\\TeX$book Theme"
   ]
  },
  {
   "cell_type": "markdown",
   "metadata": {},
   "source": [
    "This notebook exhibits the main features of the $\\TeX$book theme for Jupyter notebooks.\n",
    "We start with a ~bit of a spoiler~ _quick overlook_ here, and then we go much further in all the nuts and bolts."
   ]
  },
  {
   "cell_type": "markdown",
   "metadata": {},
   "source": [
    "### $\\TeX\\text{book}$ shall be _thy name_\n",
    "\n",
    "<span class=\"drop\">W</span>hen I designed this theme, I was aiming towards a notebook experience which had the elegance and sobriety of a $\\LaTeX$-generated article, perfectly combined with the flexibility and interactivity of Jupyter.\n",
    "And so $\\TeX\\text{book}$ seemed to be the most obvious solution for a name, a unique [portmanteau](https://www.merriam-webster.com/dictionary/portmanteau)[$^1$](#1 \"Pronunciation\"),\n",
    "blending together the words $\\LaTeX$ and _note**book**_. Incidentally, this is also the name of the \n",
    "[Donald E. Knuth](https://en.wikipedia.org/wiki/Donald_Knuth)'s [book](http://www.ctex.org/documents/shredder/src/texbook.pdf) on $\\TeX$.\n",
    "\n",
    "That was the astrological alignement. The sign that this name was indeed perfect...\n",
    "\n",
    "> Right!, One!... Two!... Five! [$^2$](#fn2 \"Monthy Python and the Holy Grail\")\n",
    "\n",
    "The $\\TeX\\text{book}$ Jupyter notebook theme wishes to pay a tribute of gratitude (in the name, and in the content) to two of the technologies I do use the most as researcher and data scientist.\n",
    "\n",
    "<span id=\"fn1\"><i>$1$:</i> `port·​man·​teau | \\ pȯrt-ˈman-(ˌ)tō`</span>\n",
    "<span id=\"fn2\"><i>$2$:</i>[The Holy Hand Granade](https://www.youtube.com/watch?v=xOrgLj9lOwk) - \n",
    "    Monthy Python and the Holy Grail</span>"
   ]
  },
  {
   "cell_type": "markdown",
   "metadata": {},
   "source": [
    "#### $\\TeX$book Theme in a Nutshell\n",
    "\n",
    "- *Computer Modern* fonts for Markdown typesetting;\n",
    "- `Hasklig` font for the Code editor;\n",
    "- `Hack` font for Markdown editor (slightly better for text writing, imho);\n",
    "- `md` and `code` colour highlight theme based on Material Design colour scheme.\n",
    "    - plus **easy-to-plug-in** new/extra CSS custom editor themes, e.g. `GitHub-Light` (see examples)\n",
    "    \n",
    "    ```C\n",
    "    #include <stdio.h>\n",
    "    int main() {\n",
    "        int i, n, t1 = 0, t2 = 1, nextTerm;\n",
    "        printf(\"Enter the number of terms: \");\n",
    "        scanf(\"%d\", &n);\n",
    "        printf(\"Fibonacci Series: \");\n",
    "\n",
    "        for (i = 1; i <= n; ++i) {\n",
    "            printf(\"%d, \", t1);\n",
    "            nextTerm = t1 + t2;\n",
    "            t1 = t2;\n",
    "            t2 = nextTerm;\n",
    "        }\n",
    "    \n",
    "        return 0;\n",
    "    }\n",
    "    ```\n",
    "    \n",
    "- Extra CSS Classes for Markdown and Code (output) formatting"
   ]
  },
  {
   "cell_type": "markdown",
   "metadata": {},
   "source": [
    "<a name=\"toc\"></a>\n",
    "#### $\\TeX$book theme in summary\n",
    "\n",
    "- [Colour Palette](#colours)\n",
    "    - [Text Colour](#txtcol)\n",
    "- [Fonts and Typeface](#fonts)\n",
    "- [Markdown](#Markdown)\n",
    "    - [Headers](#Headers)  \n",
    "    - [Emphasis](#emphasis)\n",
    "    - [Lists](#Lists)  \n",
    "    - [Images](#Images)  \n",
    "    - [Code and Syntaxt Highlithing](#code)  \n",
    "    - [Tables](#Tables)  \n",
    "    - [Blockquotes](#Blockquotes)  \n",
    "    - [Math](#Math)\n",
    "    - [Extras](#Extras)\n",
    "        - [Footnotes](#Footnotes)\n",
    "        - [Drop Cap](#dropcap)\n",
    "        - [Image Widths](#imgwidth)\n",
    "- [Code formatting](#code)\n",
    "    - [Code Editor Colour Theme](#material)\n",
    "    - [Errors](#errors)\n",
    "    - [Special Dataframe formattings](#dataframe)\n",
    "    - [Editor Theme](#themes)\n",
    "- [Miscellaneous](#misc)\n",
    "    \n",
    "- [Credits](#credits)"
   ]
  },
  {
   "cell_type": "markdown",
   "metadata": {},
   "source": [
    "---"
   ]
  },
  {
   "cell_type": "markdown",
   "metadata": {},
   "source": [
    "<a name=\"colours\"></a>\n",
    "## Colour Palette"
   ]
  },
  {
   "cell_type": "code",
   "execution_count": 1,
   "metadata": {},
   "outputs": [],
   "source": [
    "import numpy as np\n",
    "import cv2\n",
    "import matplotlib as mpl\n",
    "import matplotlib.pyplot as plt\n",
    "\n",
    "# Matplotlib Configuration Params\n",
    "%matplotlib inline\n",
    "%config InlineBackend.figure_format = 'retina'\n",
    "\n",
    "mpl.rcParams['figure.figsize'] = (20,1)"
   ]
  },
  {
   "cell_type": "code",
   "execution_count": 2,
   "metadata": {},
   "outputs": [],
   "source": [
    "# Color Palette\n",
    "colours = {\"red\": \"#d43133\", \n",
    "           \"magenta\" : \"#D14187\", \n",
    "           \"torquoise\" : \"#009489\",\n",
    "           \"azure\": \"#00afde\", \n",
    "           \"blue\": \"#2875d9\",\n",
    "           \"light-grey\": \"#828282\", \n",
    "           \"dark-grey\": \"#383838\"\n",
    "          }"
   ]
  },
  {
   "cell_type": "code",
   "execution_count": 3,
   "metadata": {},
   "outputs": [
    {
     "data": {
      "image/png": "[encoded data removed]",
      "text/plain": [
       "<Figure size 1440x72 with 7 Axes>"
      ]
     },
     "metadata": {
      "image/png": {
       "height": 92,
       "width": 1049
      },
      "needs_background": "light"
     },
     "output_type": "display_data"
    }
   ],
   "source": [
    "def hex2rgb(h: str):\n",
    "    \"\"\"helper to convert hex colours into RGB tuple\"\"\"\n",
    "    h = h.lstrip('#')\n",
    "    return tuple(int(h[i:i+2], 16) for i in (0, 2, 4))\n",
    "\n",
    "# Create a black image\n",
    "image = np.full((1024,1024,3), 255, np.uint8)\n",
    "\n",
    "def show_palette(colours):\n",
    "    n_cols = len(colours)\n",
    "    fig = plt.figure()\n",
    "    for i, (colour, hexcode) in enumerate(sorted(colours.items(), key=lambda e: hex2rgb(e[1]))):\n",
    "        axis = fig.add_subplot(1,n_cols,i+1)\n",
    "        rgb = hex2rgb(hexcode)\n",
    "        cv2.circle(image, (512, 512), 512, (rgb[0], rgb[1], rgb[2]), -1)\n",
    "        plt.title(colour, y=-0.5)\n",
    "        plt.axis('off')\n",
    "        plt.imshow(image);\n",
    "        \n",
    "show_palette(colours)"
   ]
  },
  {
   "cell_type": "markdown",
   "metadata": {},
   "source": [
    "<a name=\"txtcol\"></a>\n",
    "#### Text Colours\n",
    "\n",
    "The palette defined by the $\\TeX$book theme for the Notebook UI and Typeface is based on those `5` \n",
    "colours. In order to be able to use these colours for **text colouring**, special `CSS` classes are \n",
    "available to be used, i.e. `.texbook-<COLOR NAME>`\n",
    "\n",
    "$\\rightarrow$ <b class=\"texbook-torquoise\"> Torquoise</b>; \n",
    "<b class=\"texbook-azure\">Azure</b>; <b class=\"texbook-blue\">Blue</b>;\n",
    "<b class=\"texbook-dark-grey\">Dark Grey</b>; <b class=\"texbook-light-grey\">Light Grey</b>;\n",
    "<b class=\"texbook-pink\">Magenta</b>; <b class=\"texbook-red\">Red</b> $\\leftarrow$\n",
    "\n",
    "\n",
    "[$\\uparrow$ top](#toc)"
   ]
  },
  {
   "cell_type": "markdown",
   "metadata": {},
   "source": [
    "<a name=\"fonts\"></a>\n",
    "## Fonts and Typeface\n",
    "\n",
    "The $\\TeX$book theme typeface design is based on all fonts **open source** and freely available on \n",
    "public **font repositories** (e.g., [Google Fonts](https://fonts.google.com/), \n",
    "[DaFont](https://www.dafont.com/), or [FontSquirrel](https://www.fontsquirrel.com/)).\n",
    "All the main fonts used are released under the [OFL](https://opensource.org/licenses/OFL-1.1) \n",
    "(**O**pen **F**ont **L**icense), and alike. Original reference and download links are provided below.\n",
    "\n",
    "**Note**: All used fonts and typefaces are included in the repository (see the `fonts` folder), \n",
    "and configured in the `fonts.css` stylesheet according to multiple `font-style`, \n",
    "and `font-weight` as needed."
   ]
  },
  {
   "cell_type": "markdown",
   "metadata": {},
   "source": [
    "###### $TeX$Book typeface\n",
    "\n",
    "The main goal of the $\\TeX$book theme is to allow Jupyter notebooks to render like a \n",
    "$\\LaTeX$-generated article. Therefore, the (**Markdown**) text rendering adopts the good ol' \n",
    "[*Computer Modern*](https://en.wikipedia.org/wiki/Computer_Modern) font family for both \n",
    "serif and `monospace` text (i.e. `CMUSerif` and `CMUTypewriter` fonts, respectively).\n",
    "\n",
    "In **edit** mode, the [`Hack`](https://github.com/source-foundry/Hack) font is used for Markdown, whereas the [`Hasklig`](https://github.com/i-tu/Hasklig) font is used\n",
    "for code editor. The former looks slightly better for text writing (imho), being also based on\n",
    "the [`Bitstream Vera`](https://www.gnome.org/fonts/) and the\n",
    "[`DejaVu`](https://dejavu-fonts.github.io/) fonts; whereas the latter has been\n",
    "specifically designed for source code, combining an elegant style with support for \n",
    "[**ligratures**](https://github.com/i-tu/Hasklig#hasklig--ligatures-for-code)[$^1$](#lig).\n",
    "\n",
    "<span id=\"lig\" class=\"fn\"><i>[1]:</i>The support for liguatures in the Markdown editor would be \n",
    "useless anyway, being then rendered in Computer Modern font.</span>"
   ]
  },
  {
   "cell_type": "markdown",
   "metadata": {},
   "source": [
    "###### Notebook UI\n",
    "\n",
    "The font used for everything else in the Notebook UI and look-and-feel (e.g. `header`, `navbar`, \n",
    "_jupyter-srever home page_ (notebook list) uses the [`Roboto Slab`](https://fonts.google.com/specimen/Roboto+Slab) font.\n"
   ]
  },
  {
   "cell_type": "markdown",
   "metadata": {},
   "source": [
    "###### Font References and Links\n",
    "\n",
    "|Font                  | Format           | Reference        | License | Download |\n",
    "|:---------------------|:-----------------|:----------------:|:-------:|:--------:|\n",
    "| `Computer Modern`    | OpenType (`otf`) |[tug.org](https://tug.org/FontCatalogue/computermodern/)| [SIL OFL](https://www.fontsquirrel.com/license/computer-modern \"Computer Modern Family Font License\")|[\\[$\\Downarrow$\\]](https://www.fontsquirrel.com/fonts/computer-modern \"Computer Modern Family Font Download\")|\n",
    "| `Hack`               | TrueType (`ttf`) |[Github](https://github.com/source-foundry/Hack)|[MIT](https://github.com/source-foundry/Hack/blob/master/LICENSE.md)|[\\[$\\Downarrow$\\]](https://github.com/source-foundry/Hack/releases \"Hack Font Releases\")|\n",
    "| `Hasklig`            | OpenType (`otf`) |[Github](https://github.com/i-tu/Hasklig)|[SIL OFT](https://github.com/adobe-fonts/source-code-pro/blob/release/LICENSE.md \"Hasklig Font License\")|[\\[$\\Downarrow$\\]](https://github.com/i-tu/Hasklig/releases \"Hasklig Font Releases\")|\n",
    "| `Roboto Slab`        | OpenType (`otf`) |[Google Fonts](https://fonts.google.com/specimen/Roboto+Slab)|[Apache License, v2.0](https://fonts.google.com/specimen/Roboto+Slab#license \"Roboto Slab Font License\")|[\\[$\\Downarrow$\\]](https://fonts.google.com/download?family=Roboto%20Slab \"Roboto Slab Font Download\")|\n",
    "\n",
    "\n",
    "[$\\uparrow$ top](#toc)"
   ]
  },
  {
   "cell_type": "markdown",
   "metadata": {},
   "source": [
    "---"
   ]
  },
  {
   "cell_type": "markdown",
   "metadata": {},
   "source": [
    "## Markdown\n",
    "\n",
    "(Adapted from [Markdown Cheatsheet](https://github.com/adam-p/markdown-here/wiki/Markdown-Cheatsheet))\n",
    "License: [CC-BY](https://creativecommons.org/licenses/by/3.0/)"
   ]
  },
  {
   "cell_type": "markdown",
   "metadata": {},
   "source": [
    "<a name=\"headers\"></a>\n",
    "#### Headers\n",
    "\n",
    "# Part   (`h1`)\n",
    "## Chapter (`h2`)\n",
    "### Section (`h3`)\n",
    "#### Subsection (`h4`)\n",
    "##### Subsubsection (`h5`)\n",
    "###### Paragraph (`h6`)\n",
    "\n",
    "[$\\uparrow$ top](#toc)"
   ]
  },
  {
   "cell_type": "markdown",
   "metadata": {},
   "source": [
    "<a name=\"emphasis\"></a>\n",
    "#### Text and Emphasis\n",
    "\n",
    "Emphasis, aka italics, with *asterisks* or _underscores_.\n",
    "\n",
    "Strong emphasis, aka bold, with **asterisks** or __underscores__.\n",
    "\n",
    "Combined emphasis with **asterisks and _underscores_**, also for **`bold`** *`italic`* `mono`\n",
    "\n",
    "```\n",
    "Mono blocks are supported too.\n",
    "```\n",
    "\n",
    "Strikethrough uses two tildes, colored in <b class=\"texbook-red\">red</b>: ~~Scratch this.~~\n",
    "\n",
    "[$\\uparrow$ top](#toc)"
   ]
  },
  {
   "cell_type": "markdown",
   "metadata": {},
   "source": [
    "#### Lists\n",
    "\n",
    "**Unordered list can use asterisks**\n",
    "\n",
    "- First item\n",
    "- Second item\n",
    "  - Third item\n",
    "    - Another level\n",
    "\n",
    "**Ordered Lists** (and combinations)\n",
    "\n",
    "1. First ordered list item\n",
    "2. Another item\n",
    "  * Unordered sub-list. \n",
    "1. Actual numbers don't matter, just that it's a number\n",
    "  1. Ordered sub-list\n",
    "4. And another item.\n",
    "\n",
    "[$\\uparrow$ top](#toc)"
   ]
  },
  {
   "cell_type": "markdown",
   "metadata": {},
   "source": [
    "#### Images\n",
    "\n",
    "Here's our logo (hover to see the title text):\n",
    "\n",
    "* Inline-style: \n",
    "![Jupyter-logo](http://jupyter.org/assets/nav_logo.svg \"Jupyter logo - Inline style\")\n",
    "\n",
    "* Reference-style: \n",
    "![Jupyter-Logo Reference-style][logo]\n",
    "\n",
    "[logo]: http://jupyter.org/assets/nav_logo.svg \"Jupyter logo - Reference Style\"\n",
    "\n",
    "[$\\uparrow$ top](#toc)"
   ]
  },
  {
   "cell_type": "markdown",
   "metadata": {},
   "source": [
    "<a name=\"code\"></a>\n",
    "#### Code and Syntax Highlighting\n",
    "\n",
    "Syntax highlighting is supported: it uses the `CMUTypewriter` as for the font face, and the color scheme is the very same used for **code** cells (more on this later).\n",
    "\n",
    "```Javascript\n",
    "// Javascript highlighting\n",
    "$(document).ready(function(){\n",
    "    $(a).click(function(e){\n",
    "        e.preventDefault();\n",
    "        $(this).slideUp(300)\n",
    "    });\n",
    "});\n",
    "```\n",
    "\n",
    "```Python\n",
    "# Python highlighting\n",
    "import antigravity\n",
    "from __future__ import barry_as_FLUFL  # PEP401\n",
    "```\n",
    "\n",
    "```shell\n",
    "echo \"Shell syntaxt highlighting\"\n",
    "```\n",
    "\n",
    "[$\\uparrow$ top](#toc)"
   ]
  },
  {
   "cell_type": "markdown",
   "metadata": {},
   "source": [
    "#### Tables\n",
    "\n",
    "Tables aren't part of the core Markdown spec, but they are part of GFM and *Markdown Here* supports them. They are an easy way of adding tables to your email -- a task that would otherwise require copy-pasting from another application.\n",
    "\n",
    "Colons can be used to align columns.\n",
    "\n",
    "| Tables        | Are           | Cool  |\n",
    "| ------------- |:-------------:| -----:|\n",
    "| col 3 is      | right-aligned | \\$1600 |\n",
    "| col 2 is      | centered      |   \\$12 |\n",
    "| zebra stripes | are neat      |    \\$1 |\n",
    "\n",
    "There must be at least 3 dashes separating each header cell. The outer pipes (|) are optional, and you don't need to make the raw Markdown line up prettily. You can also use inline Markdown.\n",
    "\n",
    "Markdown | Less | Pretty\n",
    "--- | --- | ---\n",
    "*Still* | `renders` | **nicely**\n",
    "1 | 2 | 3\n",
    "\n",
    "[$\\uparrow$ top](#toc)"
   ]
  },
  {
   "cell_type": "markdown",
   "metadata": {},
   "source": [
    "#### Blockquotes\n",
    "\n",
    "> Blockquotes are very handy in email to emulate reply text.\n",
    "> This line is part of the same quote.\n",
    "\n",
    "Quote break.\n",
    "\n",
    "> This is a very long line that will still be quoted properly when it wraps. Oh boy let's keep writing to make sure this is long enough to actually wrap for everyone. Oh, you can *put* **Markdown** into a blockquote. \n",
    "\n",
    "[$\\uparrow$ top](#toc)"
   ]
  },
  {
   "cell_type": "markdown",
   "metadata": {},
   "source": [
    "#### Math\n",
    "\n",
    "Math and $LaTeX$ text style integration is supported (via MathJax) both in **inline** and **block** modes.\n",
    "\n",
    "**Inline math**:  $ X^2 + 1 = 1 $ works fine.\n",
    "\n",
    "**Math block**:\n",
    "\n",
    "$$\n",
    "X^2 + 1 = 1\n",
    "$$\n",
    "\n",
    "Some more Math examples taken from [Latex/Advanced Mathematics](https://en.wikibooks.org/wiki/LaTeX/Advanced_Mathematics):\n",
    "\n",
    "$$\n",
    "\\begin{equation} \n",
    " f(x)=(x+a)(x+b)\n",
    "\\end{equation}\n",
    "$$\n",
    "$$\n",
    "\\begin{equation}\n",
    "  L' = {L}{\\sqrt{1-\\frac{v^2}{c^2}}}\n",
    "\\end{equation}\n",
    "$$\n",
    "\n",
    "**Maxwell's equations:**\n",
    "$$\n",
    "\\begin{equation}\n",
    " \\left.\\begin{aligned}\n",
    "        B'&=-\\partial \\times E,\\\\\n",
    "        E'&=\\partial \\times B - 4\\pi j,\n",
    "       \\end{aligned}\n",
    " \\right\\}\n",
    " \\qquad \\text{Maxwell's equations}\n",
    "\\end{equation}\n",
    "$$\n",
    "\n",
    "**Factorials and Binomials:**\n",
    "$$\n",
    "\\frac{n!}{k!(n-k)!} = \\binom{n}{k}\n",
    "$$\n",
    "\n",
    "_fraction within a fraction_\n",
    "$$\n",
    "\\frac{\\frac{1}{x}+\\frac{1}{y}}{y-z}\n",
    "$$\n",
    "\n",
    "**Limits**:\n",
    "$$\n",
    "\\begin{equation}\n",
    "  \\lim_{a\\to \\infty} \\tfrac{1}{a}\n",
    "\\end{equation}\n",
    "$$\n",
    "\n",
    "**Math formulas with comments**:\n",
    "\n",
    "$$\n",
    "[\n",
    " y = a + f(\\underbrace{b x}_{\n",
    "                    \\ge 0 \\text{ by assumption}}) \n",
    "   = a + f(\\underbrace{b x}_{\n",
    "          \\ge 0 \\text{ by assumption}})\n",
    "]\n",
    "$$\n",
    "\n",
    "**`gather`**: Consecutive equations without alignment\n",
    "$$\n",
    "\\begin{gather*}\n",
    "a_0=\\frac{1}{\\pi}\\int\\limits_{-\\pi}^{\\pi}f(x)\\,\\mathrm{d}x\\\\[6pt]\n",
    "\\begin{split}\n",
    "a_n=\\frac{1}{\\pi}\\int\\limits_{-\\pi}^{\\pi}f(x)\\cos nx\\,\\mathrm{d}x=\\\\\n",
    "=\\frac{1}{\\pi}\\int\\limits_{-\\pi}^{\\pi}x^2\\cos nx\\,\\mathrm{d}x\n",
    "\\end{split}\\\\[6pt]\n",
    "\\begin{split}\n",
    "b_n=\\frac{1}{\\pi}\\int\\limits_{-\\pi}^{\\pi}f(x)\\sin nx\\,\\mathrm{d}x=\\\\\n",
    "=\\frac{1}{\\pi}\\int\\limits_{-\\pi}^{\\pi}x^2\\sin nx\\,\\mathrm{d}x\n",
    "\\end{split}\\\\[6pt]\n",
    "\\end{gather*}\n",
    "$$\n",
    "\n",
    "**`alignat`**: Allows control of the horizontal space between equations.\n",
    "$$\n",
    "\\begin{alignat}{2}\n",
    " \\sigma_1 &= x + y  &\\quad \\sigma_2 &= \\frac{x}{y} \\\\\t\n",
    " \\sigma_1' &= \\frac{\\partial x + y}{\\partial x} & \\sigma_2' \n",
    "    &= \\frac{\\partial \\frac{x}{y}}{\\partial x}\n",
    "\\end{alignat}\n",
    "$$\n",
    "\n",
    "[$\\uparrow$ top](#toc)"
   ]
  },
  {
   "cell_type": "markdown",
   "metadata": {},
   "source": [
    "#### Extras\n",
    "\n",
    "In addition to standard Markdown integration, the $\\TeX$book theme provides some extra CSS classes to allow for extra formattings and flexibility in typesetting.\n",
    "These include: \n",
    "\n",
    "1. [Footnotes](#Footnotes)\n",
    "3. [Drop Cap](#dropcap)\n",
    "4. [Image Width](#imgwidth)\n",
    "\n",
    "[$\\uparrow$ top](#toc)"
   ]
  },
  {
   "cell_type": "markdown",
   "metadata": {},
   "source": [
    "##### Footnotes\n",
    "\n",
    "To define a new footnote which complies to the CSS directives specified in the $\\TeX$book theme, the following **HTML** code should be used:\n",
    "\n",
    "```html\n",
    "<span id=\"fn1-ex\"><i>[1]:</i> This is an example of a footnote</span>\n",
    "```\n",
    "\n",
    "Footnotes could be identified by an `id` starting with the `fn` prefix \n",
    "(the CSS matching rule is `[id^='fn']`). \n",
    "The definition of footnotes via (**unique**) `id`s will also make footnotes to be automatically \n",
    "retrieved via **anchor** links in *footnote reference*. \n",
    "\n",
    "It is also possible to emphasize the _footnote reference_ using the `<i>` tag.\n",
    "\n",
    "The resulting style of a footnote[$^1$](#fn-ex) is as follows:\n",
    "\n",
    "<span id=\"fn-ex\"><i>[1]:</i> This is an example of a footnote</span>\n",
    "\n",
    "\n",
    "If we want to stack multiple[$^{1st}$](#fn-st) footnotes in the same Markdown cell[$^{2nd}$](#fn-st), the CSS will comply:\n",
    "\n",
    "<span id=\"fn-st\"><i>[1]:</i> This is an example of a footnote</span>\n",
    "<span id=\"fn-nd\"><i>[2]:</i> This is the **second** example of a footnote</span>\n",
    "\n",
    "**_Last but not least_**, if we want or need to identify a footnote with a specific `id` that will not comply\n",
    "with the `fn` prefix requirement, the `.fn` class can be used instead[$^{CSS}$](#fncss): \n",
    "\n",
    "```html\n",
    "<span id=\"fnclass\" class=\"fn\"><i>[1]:</i> This is footnote of class `.fn` and any `id`</span>\n",
    "```\n",
    "\n",
    "<span id=\"css\" class=\"fn\"><i>[`.fn` CSS Class]:</i> This is footnote of class `.fn` and any `id`</span>\n",
    "\n",
    "[$\\uparrow$ top](#toc)"
   ]
  },
  {
   "cell_type": "markdown",
   "metadata": {},
   "source": [
    "<a name=\"dropcap\"></a>\n",
    "##### Drop Cap\n",
    "\n",
    "<span class=\"drop\">D</span>rop cap: A special class to display a \n",
    "[**drop cap**](https://en.wiktionary.org/wiki/drop_cap) could not be missing in the $\\TeX$book theme. \n",
    "\n",
    "The available `CSS` class is just `drop`.\n",
    "\n",
    "\n",
    "[$\\uparrow$ top](#toc)"
   ]
  },
  {
   "cell_type": "markdown",
   "metadata": {},
   "source": [
    "<a name=\"imgwidth\"></a>\n",
    "##### Image Width\n",
    "\n",
    "As default, the `max-width` of images (and SVG) is automatically capped at the `70%` to allow for a \n",
    "proper rendering of large images, avoiding any potential overflow. However, there may be cases in \n",
    "which it could be required to control the `max-width` parameter in order to enlarge or \n",
    "shrink an image. To do so, some special `CSS` classes have been defined to control the value \n",
    "of `max-width` attribute. \n",
    "\n",
    "Here are the available `CSS` **classes** and corresponding display of the same image at different size.\n",
    "\n",
    "**Default**:\n",
    "\n",
    "<img src=\"https://www.softwareheritage.org/wp-content/uploads/2020/05/BibLaTEX-swh_3-768x682.png\" />\n",
    "\n",
    "\n",
    "- `maxw10` $\\Rightarrow$ `max-width: 10%`\n",
    "\n",
    "<img src=\"https://www.softwareheritage.org/wp-content/uploads/2020/05/BibLaTEX-swh_3-768x682.png\" class=\"maxw10\" />\n",
    "\n",
    "- `maxw15` $\\Rightarrow$ `max-width: 15%`\n",
    "\n",
    "<img src=\"https://www.softwareheritage.org/wp-content/uploads/2020/05/BibLaTEX-swh_3-768x682.png\" class=\"maxw15\" />\n",
    "\n",
    "- `maxw20` $\\Rightarrow$ `max-width: 20%`\n",
    "\n",
    "<img src=\"https://www.softwareheritage.org/wp-content/uploads/2020/05/BibLaTEX-swh_3-768x682.png\" class=\"maxw20\" />\n",
    "\n",
    "- `maxw25` $\\Rightarrow$ `max-width: 25%`\n",
    "\n",
    "<img src=\"https://www.softwareheritage.org/wp-content/uploads/2020/05/BibLaTEX-swh_3-768x682.png\" class=\"maxw25\" />\n",
    "\n",
    "- `maxw30` $\\Rightarrow$ `max-width: 30%`\n",
    "\n",
    "<img src=\"https://www.softwareheritage.org/wp-content/uploads/2020/05/BibLaTEX-swh_3-768x682.png\" class=\"maxw30\" />\n",
    "\n",
    "- `maxw40` $\\Rightarrow$ `max-width: 40%`\n",
    "\n",
    "<img src=\"https://www.softwareheritage.org/wp-content/uploads/2020/05/BibLaTEX-swh_3-768x682.png\" class=\"maxw40\" />\n",
    "\n",
    "- `maxw50` $\\Rightarrow$ `max-width: 50%`\n",
    "\n",
    "<img src=\"https://www.softwareheritage.org/wp-content/uploads/2020/05/BibLaTEX-swh_3-768x682.png\" class=\"maxw50\" />\n",
    "\n",
    "- `maxw80` $\\Rightarrow$ `max-width: 80%`\n",
    "\n",
    "<img src=\"https://www.softwareheritage.org/wp-content/uploads/2020/05/BibLaTEX-swh_3-768x682.png\" class=\"maxw80\" />\n",
    "\n",
    "- `maxw85` $\\Rightarrow$ `max-width: 85%`\n",
    "\n",
    "<img src=\"https://www.softwareheritage.org/wp-content/uploads/2020/05/BibLaTEX-swh_3-768x682.png\" class=\"maxw85\" />\n",
    "\n",
    "- `maxw90` $\\Rightarrow$ `max-width: 90%`\n",
    "\n",
    "<img src=\"https://www.softwareheritage.org/wp-content/uploads/2020/05/BibLaTEX-swh_3-768x682.png\" class=\"maxw90\" />\n",
    "\n",
    "- `maxw100` $\\Rightarrow$ `max-width: 100%`\n",
    "\n",
    "<img src=\"https://www.softwareheritage.org/wp-content/uploads/2020/05/BibLaTEX-swh_3-768x682.png\" class=\"maxw100\" />\n",
    "\n",
    "\n",
    "[$\\uparrow$ top](#toc)"
   ]
  },
  {
   "cell_type": "markdown",
   "metadata": {},
   "source": [
    "---"
   ]
  },
  {
   "cell_type": "code",
   "execution_count": 4,
   "metadata": {
    "scrolled": true
   },
   "outputs": [
    {
     "data": {
      "image/png": "[encoded data removed]",
      "text/plain": [
       "<Figure size 1440x72 with 12 Axes>"
      ]
     },
     "metadata": {
      "image/png": {
       "height": 92,
       "width": 1110
      },
      "needs_background": "light"
     },
     "output_type": "display_data"
    }
   ],
   "source": [
    "material_code_colours = {\n",
    "    \"light-white\": \"#FAFAFA\",\n",
    "    \"black\": \"#212121\",\n",
    "    \"dark-blue\" : \"#01579B11\",\n",
    "    \"dark-blue-2\": \"#01579B22\",\n",
    "    \"blue\": \"#1565C0\",\n",
    "    \"green\": \"#2E7D32\",\n",
    "    \"yellow\": \"#A8601A\",\n",
    "    \"cyan\": \"#00838f\",\n",
    "    \"magenta\": \"#9C00B0\",\n",
    "    \"red\": \"#C0392B\",\n",
    "    \"grey\": \"#9E9E9E\",\n",
    "    \"light-blue\": \"#78909c\"\n",
    "}\n",
    "\n",
    "show_palette(material_code_colours)"
   ]
  },
  {
   "cell_type": "markdown",
   "metadata": {},
   "source": [
    "---"
   ]
  },
  {
   "cell_type": "markdown",
   "metadata": {},
   "source": [
    "<a name=\"misc\"></a>\n",
    "## Miscellaneous\n",
    "\n",
    "* notebook cell style\n",
    "    - codecell  overlay\n",
    "    \n",
    "* fixed bar (and custom JS)\n",
    "\n",
    "* Changed colours?\n",
    "\n",
    "\n",
    "[$\\uparrow$ top](#toc)"
   ]
  },
  {
   "cell_type": "markdown",
   "metadata": {},
   "source": [
    "---"
   ]
  },
  {
   "cell_type": "markdown",
   "metadata": {},
   "source": [
    "## Credits"
   ]
  },
  {
   "cell_type": "markdown",
   "metadata": {},
   "source": [
    "[$\\uparrow$ top](#toc)"
   ]
  },
  {
   "cell_type": "code",
   "execution_count": null,
   "metadata": {},
   "outputs": [],
   "source": []
  }
 ],
 "metadata": {
  "kernelspec": {
   "display_name": "Python 3",
   "language": "python",
   "name": "python3"
  },
  "language_info": {
   "codemirror_mode": {
    "name": "ipython",
    "version": 3
   },
   "file_extension": ".py",
   "mimetype": "text/x-python",
   "name": "python",
   "nbconvert_exporter": "python",
   "pygments_lexer": "ipython3",
   "version": "3.7.6"
  }
 },
 "nbformat": 4,
 "nbformat_minor": 4
}
